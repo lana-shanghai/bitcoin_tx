{
 "cells": [
  {
   "cell_type": "code",
   "execution_count": 1,
   "metadata": {},
   "outputs": [],
   "source": [
    "import hashlib\n",
    "import time"
   ]
  },
  {
   "cell_type": "code",
   "execution_count": 2,
   "metadata": {},
   "outputs": [],
   "source": [
    "def reverse(byte_string):\n",
    "    byte_list = [byte_string[2*j]+byte_string[2*j+1] for j in range(4)][::-1]\n",
    "    return ''.join(byte_list)\n",
    "\n",
    "def to_hex(byte):\n",
    "    if len(hex(byte)[2:]) == 1:\n",
    "        return '0'+ hex(byte)[2:]\n",
    "    else:\n",
    "        return hex(byte)[2:]\n",
    "\n",
    "def actual_hex(byte):\n",
    "    return hex(byte)"
   ]
  },
  {
   "cell_type": "code",
   "execution_count": 3,
   "metadata": {},
   "outputs": [
    {
     "name": "stdout",
     "output_type": "stream",
     "text": [
      "D9B4BEF9 3652501241\n"
     ]
    }
   ],
   "source": [
    "t = int(reverse('F9BEB4D9'), 16)\n",
    "print(reverse('F9BEB4D9'), t)"
   ]
  },
  {
   "cell_type": "code",
   "execution_count": 4,
   "metadata": {},
   "outputs": [],
   "source": [
    "with open('lana1.dat', 'rb') as file:\n",
    "    lines = [l for l in file.readlines()]"
   ]
  },
  {
   "cell_type": "code",
   "execution_count": 12,
   "metadata": {},
   "outputs": [
    {
     "name": "stdout",
     "output_type": "stream",
     "text": [
      "\n",
      "\n",
      "Block number: 0\n",
      "Block size: 285\n",
      "Magic number: f9beb4d9\n",
      "Version: 1\n",
      "Previous hash: 0000000000000000000000000000000000000000000000000000000000000000\n",
      "Merkle: 3ba3edfd7a7b12b27ac72c3e67768f617fc81bc3888a51323a9fb8aa4b1e5e4a\n",
      "Current hash: 6fe28c0ab6f1b372c1a6a246ae63f74f931e8365e15a089c68d6190000000000\n",
      "Timestamp: 1231006505\n",
      "Datetime: Sat Jan  3 21:15:05 2009\n",
      "Difficulty: 1d00ffff\n",
      "Bytes: 29\n",
      "Target: 00ffff\n",
      "Nonce: 2083236893\n",
      "True\n",
      "\n",
      "\n",
      "Block number: 1\n",
      "Block size: 215\n",
      "Magic number: f9beb4d9\n",
      "Version: 1\n",
      "Previous hash: 6fe28c0ab6f1b372c1a6a246ae63f74f931e8365e15a089c68d6190000000000\n",
      "Merkle: 982051fd1e4ba744bbbe680e1fee14677ba1a3c3540bf7b1cdb606e857233e0e\n",
      "Current hash: 4860eb18bf1b1620e37e9490fc8a427514416fd75159ab86688e9a8300000000\n",
      "Timestamp: 1231469665\n",
      "Datetime: Fri Jan  9 05:54:25 2009\n",
      "Difficulty: 1d00ffff\n",
      "Bytes: 29\n",
      "Target: 00ffff\n",
      "Nonce: 2573394689\n",
      "True\n",
      "\n",
      "\n",
      "Block number: 2\n",
      "Block size: 215\n",
      "Magic number: f9beb4d9\n",
      "Version: 1\n",
      "Previous hash: 4860eb18bf1b1620e37e9490fc8a427514416fd75159ab86688e9a8300000000\n",
      "Merkle: d5fdcc541e25de1c7a5addedf24858b8bb665c9f36ef744ee42c316022c90f9b\n",
      "Current hash: bddd99ccfda39da1b108ce1a5d70038d0a967bacb68b6b63065f626a00000000\n",
      "Timestamp: 1231469744\n",
      "Datetime: Fri Jan  9 05:55:44 2009\n",
      "Difficulty: 1d00ffff\n",
      "Bytes: 29\n",
      "Target: 00ffff\n",
      "Nonce: 1639830024\n",
      "True\n",
      "\n",
      "\n",
      "Block number: 3\n",
      "Block size: 215\n",
      "Magic number: f9beb4d9\n",
      "Version: 1\n",
      "Previous hash: bddd99ccfda39da1b108ce1a5d70038d0a967bacb68b6b63065f626a00000000\n",
      "Merkle: 44f672226090d85db9a9f2fbfe5f0f9609b387af7be5b7fbb7a1767c831c9e99\n",
      "Current hash: 4944469562ae1c2c74d9a535e00b6f3e40ffbad4f2fda3895501b58200000000\n",
      "Timestamp: 1231470173\n",
      "Datetime: Fri Jan  9 06:02:53 2009\n",
      "Difficulty: 1d00ffff\n",
      "Bytes: 29\n",
      "Target: 00ffff\n",
      "Nonce: 1844305925\n"
     ]
    }
   ],
   "source": [
    "my_bytes = b''\n",
    "for i in range(len(lines)):\n",
    "    my_bytes += lines[i]\n",
    "\n",
    "block_number = 0\n",
    "for i in range(len(my_bytes)-4):\n",
    "    hex_array = ''.join([to_hex(my_bytes[i+j]) for j in range(4)])\n",
    "    \n",
    "    if hex_array == 'f9beb4d9':\n",
    "\n",
    "        try:\n",
    "            size = sum([my_bytes[i+4+j] * 2**(8*j) for j in range(4)])\n",
    "            version = sum([my_bytes[i+8+j] * 2**(8*j) for j in range(4)])\n",
    "            header = my_bytes[i+8:i+8+80]\n",
    "            previous_hash = ''.join(to_hex(header[4:36][j]) for j in range(32))\n",
    "            if block_number > 0:\n",
    "                print(previous_hash == current_hash)\n",
    "            merkle = ''.join(to_hex(header[36:68][j]) for j in range(32))\n",
    "            current_hash = hashlib.sha256(hashlib.sha256(header).digest()).digest().hex()\n",
    "            ts = sum([header[68:72][j] * 2**(8*j) for j in range(4)])\n",
    "            date = time.ctime(ts)\n",
    "            difficulty = ''.join(to_hex(header[72:76][::-1][j]) for j in range(4))\n",
    "            number_bytes = to_hex(header[75])\n",
    "            target = header[72:75][::-1]\n",
    "            nonce = sum([header[76:80][j] * 2**(8*j) for j in range(4)])\n",
    "\n",
    "            print('\\n')\n",
    "            print('Block number:', block_number)\n",
    "            print('Block size:', size)\n",
    "            print('Magic number:', hex_array)\n",
    "            print('Version:', version)\n",
    "            print('Previous hash:', previous_hash)\n",
    "            print('Merkle:', merkle)\n",
    "            print('Current hash:', current_hash)\n",
    "            print('Timestamp:', ts)\n",
    "            print('Datetime:', date)\n",
    "            print('Difficulty:', difficulty)\n",
    "            print('Bytes:', int(number_bytes, 16))\n",
    "            print('Target:', target.hex())\n",
    "            print('Nonce:', nonce)\n",
    "        except:\n",
    "            pass\n",
    "        \n",
    "        block_number += 1"
   ]
  },
  {
   "cell_type": "code",
   "execution_count": null,
   "metadata": {},
   "outputs": [],
   "source": []
  }
 ],
 "metadata": {
  "kernelspec": {
   "display_name": "Python 3",
   "language": "python",
   "name": "python3"
  },
  "language_info": {
   "codemirror_mode": {
    "name": "ipython",
    "version": 3
   },
   "file_extension": ".py",
   "mimetype": "text/x-python",
   "name": "python",
   "nbconvert_exporter": "python",
   "pygments_lexer": "ipython3",
   "version": "3.6.5"
  }
 },
 "nbformat": 4,
 "nbformat_minor": 2
}
