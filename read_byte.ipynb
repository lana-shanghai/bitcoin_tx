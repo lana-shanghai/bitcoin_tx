{
 "cells": [
  {
   "cell_type": "code",
   "execution_count": 128,
   "metadata": {},
   "outputs": [],
   "source": [
    "def reverse(byte_string):\n",
    "    byte_list = [byte_string[2*j]+byte_string[2*j+1] for j in range(4)][::-1]\n",
    "    return ''.join(byte_list)"
   ]
  },
  {
   "cell_type": "code",
   "execution_count": 129,
   "metadata": {},
   "outputs": [
    {
     "data": {
      "text/plain": [
       "'D9B4BEF9'"
      ]
     },
     "execution_count": 129,
     "metadata": {},
     "output_type": "execute_result"
    }
   ],
   "source": [
    "reverse('F9BEB4D9')"
   ]
  },
  {
   "cell_type": "code",
   "execution_count": 130,
   "metadata": {},
   "outputs": [
    {
     "data": {
      "text/plain": [
       "3652501241"
      ]
     },
     "execution_count": 130,
     "metadata": {},
     "output_type": "execute_result"
    }
   ],
   "source": [
    "t = int(reverse('F9BEB4D9'), 16)\n",
    "t"
   ]
  },
  {
   "cell_type": "code",
   "execution_count": 139,
   "metadata": {},
   "outputs": [],
   "source": [
    "def to_hex(byte):\n",
    "    return hex(byte)[2:]"
   ]
  },
  {
   "cell_type": "code",
   "execution_count": 163,
   "metadata": {},
   "outputs": [],
   "source": [
    "with open('lana1.dat', 'rb') as file:\n",
    "    lines = [l for l in file.readlines()]"
   ]
  },
  {
   "cell_type": "code",
   "execution_count": 220,
   "metadata": {},
   "outputs": [
    {
     "name": "stdout",
     "output_type": "stream",
     "text": [
      "\n",
      "\n",
      "Block number: 0\n",
      "Magic number: f9beb4d9\n",
      "Block size: 285\n",
      "Version: 1\n",
      "[0, 0, 0, 0, 0, 0, 0, 0, 0, 0, 0, 0, 0, 0, 0, 0, 0, 0, 0, 0, 0, 0, 0, 0, 0, 0, 0, 0, 0, 0, 0, 0, 59, 163, 237, 253, 122, 123, 18, 178, 122, 199, 44, 62, 103, 118, 143, 97, 127, 200, 27, 195, 136, 138, 81, 50, 58, 159, 184, 170, 75, 30, 94, 74, 41, 171, 95, 73, 255, 255, 0, 29, 29, 172, 43, 124, 1, 1, 0, 0]\n",
      "\n",
      "\n",
      "Block number: 1\n",
      "Magic number: f9beb4d9\n",
      "Block size: 215\n",
      "Version: 1\n",
      "[0, 0, 0, 0, 0, 0, 0, 0, 0, 0, 0, 0, 0, 0, 0, 0, 0, 0, 0, 0, 0, 0, 0, 0, 0, 0, 0, 0, 0, 0, 0, 0, 59, 163, 237, 253, 122, 123, 18, 178, 122, 199, 44, 62, 103, 118, 143, 97, 127, 200, 27, 195, 136, 138, 81, 50, 58, 159, 184, 170, 75, 30, 94, 74, 41, 171, 95, 73, 255, 255, 0, 29, 29, 172, 43, 124, 1, 1, 0, 0]\n",
      "\n",
      "\n",
      "Block number: 2\n",
      "Magic number: f9beb4d9\n",
      "Block size: 215\n",
      "Version: 1\n",
      "[0, 0, 0, 0, 0, 0, 0, 0, 0, 0, 0, 0, 0, 0, 0, 0, 0, 0, 0, 0, 0, 0, 0, 0, 0, 0, 0, 0, 0, 0, 0, 0, 59, 163, 237, 253, 122, 123, 18, 178, 122, 199, 44, 62, 103, 118, 143, 97, 127, 200, 27, 195, 136, 138, 81, 50, 58, 159, 184, 170, 75, 30, 94, 74, 41, 171, 95, 73, 255, 255, 0, 29, 29, 172, 43, 124, 1, 1, 0, 0]\n",
      "\n",
      "\n",
      "Block number: 3\n",
      "Magic number: f9beb4d9\n",
      "Block size: 215\n",
      "Version: 1\n",
      "[0, 0, 0, 0, 0, 0, 0, 0, 0, 0, 0, 0, 0, 0, 0, 0, 0, 0, 0, 0, 0, 0, 0, 0, 0, 0, 0, 0, 0, 0, 0, 0, 59, 163, 237, 253, 122, 123, 18, 178, 122, 199, 44, 62, 103, 118, 143, 97, 127, 200, 27, 195, 136, 138, 81, 50, 58, 159, 184, 170, 75, 30, 94, 74, 41, 171, 95, 73, 255, 255, 0, 29, 29, 172, 43, 124, 1, 1, 0, 0]\n",
      "\n",
      "\n",
      "Block number: 4\n",
      "Magic number: f9beb4d9\n",
      "Block size: 215\n",
      "Version: 1\n",
      "[0, 0, 0, 0, 0, 0, 0, 0, 0, 0, 0, 0, 0, 0, 0, 0, 0, 0, 0, 0, 0, 0, 0, 0, 0, 0, 0, 0, 0, 0, 0, 0, 59, 163, 237, 253, 122, 123, 18, 178, 122, 199, 44, 62, 103, 118, 143, 97, 127, 200, 27, 195, 136, 138, 81, 50, 58, 159, 184, 170, 75, 30, 94, 74, 41, 171, 95, 73, 255, 255, 0, 29, 29, 172, 43, 124, 1, 1, 0, 0]\n"
     ]
    }
   ],
   "source": [
    "my_bytes = b''\n",
    "for i in range(len(lines)):\n",
    "    my_bytes += lines[i]\n",
    "\n",
    "block_number = 0\n",
    "for i in range(len(my_bytes)-4):\n",
    "    hex_array = ''.join([to_hex(my_bytes[i+j]) for j in range(4)])\n",
    "    \n",
    "    if hex_array == 'f9beb4d9':\n",
    "        #print(i)\n",
    "        print('\\n')\n",
    "        print('Block number:', block_number)\n",
    "        array1 = [my_bytes[i+j] for j in range(4)]\n",
    "        print('Magic number:', hex_array)\n",
    "        size = [my_bytes[i+j] * 2**(8*j) for j in range(4)]\n",
    "        print('Block size:', sum([my_bytes[i+4+j] * 2**(8*j) for j in range(4)]))\n",
    "        version = sum([my_bytes[i+8+j] * 2**(8*j) for j in range(4)])\n",
    "        print('Version:', version)\n",
    "        header = my_bytes[12:12+80]\n",
    "        print([header[k] for k in range(80)])\n",
    "        \n",
    "        block_number += 1\n",
    "        \n",
    "    #print(''.join(hex_array))\n",
    "    #print(array1)\n",
    "    #print(array2)\n",
    "    #print('Sum:', sum(size))\n",
    "    #print('\\n')"
   ]
  },
  {
   "cell_type": "code",
   "execution_count": null,
   "metadata": {},
   "outputs": [],
   "source": []
  }
 ],
 "metadata": {
  "kernelspec": {
   "display_name": "Python 3",
   "language": "python",
   "name": "python3"
  },
  "language_info": {
   "codemirror_mode": {
    "name": "ipython",
    "version": 3
   },
   "file_extension": ".py",
   "mimetype": "text/x-python",
   "name": "python",
   "nbconvert_exporter": "python",
   "pygments_lexer": "ipython3",
   "version": "3.6.5"
  }
 },
 "nbformat": 4,
 "nbformat_minor": 2
}
